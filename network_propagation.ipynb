{
 "cells": [
  {
   "cell_type": "code",
   "execution_count": 1,
   "metadata": {},
   "outputs": [],
   "source": [
    "from network import str2bool, isNum, Walker, main_propagation\n",
    "import network\n",
    "import sys"
   ]
  },
  {
   "cell_type": "code",
   "execution_count": 1,
   "metadata": {},
   "outputs": [
    {
     "name": "stdout",
     "output_type": "stream",
     "text": [
      "9 iterated\n"
     ]
    }
   ],
   "source": [
    "import network\n",
    "import sys\n",
    "\n",
    "# 명령행 인자 설정\n",
    "sys.argv = [\n",
    "    'network.py', \n",
    "    'input_graph.txt',  # input_graph.txt 파일 경로\n",
    "    '1.subacute_up_deg_list.txt',    # seed_file.txt 파일 경로\n",
    "    '-o', '1.output_subacute_up.txt', # 출력 파일 설정\n",
    "    '-e', '0.01',       # restart probability 설정\n",
    "    '-constantWeight', 'False', # 선택적 인자들 설정\n",
    "    '-absoluteWeight', 'False',\n",
    "    '-addBidirectionEdge', 'False',\n",
    "    '-normalize', 'False'\n",
    "]\n",
    "\n",
    "# main_propagation 함수 호출\n",
    "network.main_propagation(sys.argv)\n"
   ]
  },
  {
   "cell_type": "code",
   "execution_count": 2,
   "metadata": {},
   "outputs": [
    {
     "name": "stdout",
     "output_type": "stream",
     "text": [
      "11 iterated\n"
     ]
    }
   ],
   "source": [
    "# 명령행 인자 설정\n",
    "sys.argv = [\n",
    "    'network.py', \n",
    "    'input_graph.txt',  # input_graph.txt 파일 경로\n",
    "    '1.subacute_down_deg_list.txt',    # seed_file.txt 파일 경로\n",
    "    '-o', '1.output_subacute_down.txt', # 출력 파일 설정\n",
    "    '-e', '0.01',       # restart probability 설정\n",
    "    '-constantWeight', 'False', # 선택적 인자들 설정\n",
    "    '-absoluteWeight', 'False',\n",
    "    '-addBidirectionEdge', 'False',\n",
    "    '-normalize', 'False'\n",
    "]\n",
    "\n",
    "# main_propagation 함수 호출\n",
    "network.main_propagation(sys.argv)"
   ]
  },
  {
   "cell_type": "code",
   "execution_count": 5,
   "metadata": {},
   "outputs": [
    {
     "name": "stdout",
     "output_type": "stream",
     "text": [
      "11 iterated\n"
     ]
    }
   ],
   "source": [
    "# 명령행 인자 설정\n",
    "sys.argv = [\n",
    "    'network.py', \n",
    "    'input_graph.txt',  # input_graph.txt 파일 경로\n",
    "    '1.acute_up_deg_list.txt',    # seed_file.txt 파일 경로\n",
    "    '-o', '1.output_acute_up.txt', # 출력 파일 설정\n",
    "    '-e', '0.01',       # restart probability 설정\n",
    "    '-constantWeight', 'False', # 선택적 인자들 설정\n",
    "    '-absoluteWeight', 'False',\n",
    "    '-addBidirectionEdge', 'False',\n",
    "    '-normalize', 'False'\n",
    "]\n",
    "\n",
    "# main_propagation 함수 호출\n",
    "network.main_propagation(sys.argv)\n"
   ]
  },
  {
   "cell_type": "code",
   "execution_count": 6,
   "metadata": {},
   "outputs": [
    {
     "name": "stdout",
     "output_type": "stream",
     "text": [
      "11 iterated\n"
     ]
    }
   ],
   "source": [
    "# 명령행 인자 설정\n",
    "sys.argv = [\n",
    "    'network.py', \n",
    "    'input_graph.txt',  # input_graph.txt 파일 경로\n",
    "    '1.acute_down_deg_list.txt',    # seed_file.txt 파일 경로\n",
    "    '-o', '1.output_acute_down.txt', # 출력 파일 설정\n",
    "    '-e', '0.01',       # restart probability 설정\n",
    "    '-constantWeight', 'False', # 선택적 인자들 설정\n",
    "    '-absoluteWeight', 'False',\n",
    "    '-addBidirectionEdge', 'False',\n",
    "    '-normalize', 'False'\n",
    "]\n",
    "\n",
    "# main_propagation 함수 호출\n",
    "network.main_propagation(sys.argv)"
   ]
  },
  {
   "cell_type": "code",
   "execution_count": 8,
   "metadata": {},
   "outputs": [
    {
     "name": "stdout",
     "output_type": "stream",
     "text": [
      "10 iterated\n"
     ]
    }
   ],
   "source": [
    "# 명령행 인자 설정\n",
    "sys.argv = [\n",
    "    'network.py', \n",
    "    'input_graph.txt',  # input_graph.txt 파일 경로\n",
    "    '2.cpm_subacute_up_deg_list.txt',    # seed_file.txt 파일 경로\n",
    "    '-o', '2.output_cpm_subacute_up.txt', # 출력 파일 설정\n",
    "    '-e', '0.01',       # restart probability 설정\n",
    "    '-constantWeight', 'False', # 선택적 인자들 설정\n",
    "    '-absoluteWeight', 'False',\n",
    "    '-addBidirectionEdge', 'False',\n",
    "    '-normalize', 'False'\n",
    "]\n",
    "\n",
    "# main_propagation 함수 호출\n",
    "network.main_propagation(sys.argv)\n"
   ]
  },
  {
   "cell_type": "code",
   "execution_count": 9,
   "metadata": {},
   "outputs": [
    {
     "name": "stdout",
     "output_type": "stream",
     "text": [
      "3 iterated\n"
     ]
    }
   ],
   "source": [
    "# 명령행 인자 설정\n",
    "sys.argv = [\n",
    "    'network.py', \n",
    "    'input_graph.txt',  # input_graph.txt 파일 경로\n",
    "    '2.cpm_subacute_down_deg_list.txt',    # seed_file.txt 파일 경로\n",
    "    '-o', '2.output_cpm_subacute_down.txt', # 출력 파일 설정\n",
    "    '-e', '0.01',       # restart probability 설정\n",
    "    '-constantWeight', 'False', # 선택적 인자들 설정\n",
    "    '-absoluteWeight', 'False',\n",
    "    '-addBidirectionEdge', 'False',\n",
    "    '-normalize', 'False'\n",
    "]\n",
    "\n",
    "# main_propagation 함수 호출\n",
    "network.main_propagation(sys.argv)\n"
   ]
  },
  {
   "cell_type": "code",
   "execution_count": 10,
   "metadata": {},
   "outputs": [
    {
     "name": "stdout",
     "output_type": "stream",
     "text": [
      "10 iterated\n"
     ]
    }
   ],
   "source": [
    "# 명령행 인자 설정\n",
    "sys.argv = [\n",
    "    'network.py', \n",
    "    'input_graph.txt',  # input_graph.txt 파일 경로\n",
    "    '2.cpm_acute_up_deg_list.txt',    # seed_file.txt 파일 경로\n",
    "    '-o', '2.output_cpm_acute_up.txt', # 출력 파일 설정\n",
    "    '-e', '0.01',       # restart probability 설정\n",
    "    '-constantWeight', 'False', # 선택적 인자들 설정\n",
    "    '-absoluteWeight', 'False',\n",
    "    '-addBidirectionEdge', 'False',\n",
    "    '-normalize', 'False'\n",
    "]\n",
    "\n",
    "# main_propagation 함수 호출\n",
    "network.main_propagation(sys.argv)\n"
   ]
  },
  {
   "cell_type": "code",
   "execution_count": 11,
   "metadata": {},
   "outputs": [
    {
     "name": "stdout",
     "output_type": "stream",
     "text": [
      "10 iterated\n"
     ]
    }
   ],
   "source": [
    "# 명령행 인자 설정\n",
    "sys.argv = [\n",
    "    'network.py', \n",
    "    'input_graph.txt',  # input_graph.txt 파일 경로\n",
    "    '2.cpm_acute_down_deg_list.txt',    # seed_file.txt 파일 경로\n",
    "    '-o', '2.output_cpm_acute_down.txt', # 출력 파일 설정\n",
    "    '-e', '0.01',       # restart probability 설정\n",
    "    '-constantWeight', 'False', # 선택적 인자들 설정\n",
    "    '-absoluteWeight', 'False',\n",
    "    '-addBidirectionEdge', 'False',\n",
    "    '-normalize', 'False'\n",
    "]\n",
    "\n",
    "# main_propagation 함수 호출\n",
    "network.main_propagation(sys.argv)\n"
   ]
  },
  {
   "cell_type": "markdown",
   "metadata": {},
   "source": [
    "### bowtie 인덱스 생성 및 정렬 후 htseq-count"
   ]
  },
  {
   "cell_type": "code",
   "execution_count": 2,
   "metadata": {},
   "outputs": [
    {
     "name": "stdout",
     "output_type": "stream",
     "text": [
      "11 iterated\n"
     ]
    }
   ],
   "source": [
    "# 명령행 인자 설정\n",
    "sys.argv = [\n",
    "    'network.py', \n",
    "    'input_graph.txt',  # input_graph.txt 파일 경로\n",
    "    '0.adjusted_subacute_up_deg_list.txt',    # seed_file.txt 파일 경로\n",
    "    '-o', '0.adjusted_subacute_up.txt', # 출력 파일 설정\n",
    "    '-e', '0.01',       # restart probability 설정\n",
    "    '-constantWeight', 'False', # 선택적 인자들 설정\n",
    "    '-absoluteWeight', 'False',\n",
    "    '-addBidirectionEdge', 'False',\n",
    "    '-normalize', 'False'\n",
    "]\n",
    "\n",
    "# main_propagation 함수 호출\n",
    "network.main_propagation(sys.argv)\n"
   ]
  },
  {
   "cell_type": "code",
   "execution_count": 3,
   "metadata": {},
   "outputs": [
    {
     "name": "stdout",
     "output_type": "stream",
     "text": [
      "10 iterated\n"
     ]
    }
   ],
   "source": [
    "# 명령행 인자 설정\n",
    "sys.argv = [\n",
    "    'network.py', \n",
    "    'input_graph.txt',  # input_graph.txt 파일 경로\n",
    "    '0.adjusted_subacute_down_deg_list.txt',    # seed_file.txt 파일 경로\n",
    "    '-o', '0.adjusted_subacute_down.txt', # 출력 파일 설정\n",
    "    '-e', '0.01',       # restart probability 설정\n",
    "    '-constantWeight', 'False', # 선택적 인자들 설정\n",
    "    '-absoluteWeight', 'False',\n",
    "    '-addBidirectionEdge', 'False',\n",
    "    '-normalize', 'False'\n",
    "]\n",
    "\n",
    "# main_propagation 함수 호출\n",
    "network.main_propagation(sys.argv)\n"
   ]
  },
  {
   "cell_type": "code",
   "execution_count": 2,
   "metadata": {},
   "outputs": [
    {
     "name": "stdout",
     "output_type": "stream",
     "text": [
      "23 iterated\n"
     ]
    }
   ],
   "source": [
    "# 명령행 인자 설정\n",
    "sys.argv = [\n",
    "    'network.py', \n",
    "    'input_graph.txt',  # input_graph.txt 파일 경로\n",
    "    '0.adjusted_acute_up_deg_list.txt',    # seed_file.txt 파일 경로\n",
    "    '-o', '0.adjusted_acute_up.txt', # 출력 파일 설정\n",
    "    '-e', '0.01',       # restart probability 설정\n",
    "    '-constantWeight', 'False', # 선택적 인자들 설정\n",
    "    '-absoluteWeight', 'False',\n",
    "    '-addBidirectionEdge', 'False',\n",
    "    '-normalize', 'False'\n",
    "]\n",
    "\n",
    "# main_propagation 함수 호출\n",
    "network.main_propagation(sys.argv)\n"
   ]
  },
  {
   "cell_type": "code",
   "execution_count": 3,
   "metadata": {},
   "outputs": [
    {
     "name": "stdout",
     "output_type": "stream",
     "text": [
      "11 iterated\n"
     ]
    }
   ],
   "source": [
    "# 명령행 인자 설정\n",
    "sys.argv = [\n",
    "    'network.py', \n",
    "    'input_graph.txt',  # input_graph.txt 파일 경로\n",
    "    '0.adjusted_acute_down_deg_list.txt',    # seed_file.txt 파일 경로\n",
    "    '-o', '0.adjusted_acute_down.txt', # 출력 파일 설정\n",
    "    '-e', '0.01',       # restart probability 설정\n",
    "    '-constantWeight', 'False', # 선택적 인자들 설정\n",
    "    '-absoluteWeight', 'False',\n",
    "    '-addBidirectionEdge', 'False',\n",
    "    '-normalize', 'False'\n",
    "]\n",
    "\n",
    "# main_propagation 함수 호출\n",
    "network.main_propagation(sys.argv)\n"
   ]
  }
 ],
 "metadata": {
  "kernelspec": {
   "display_name": "np",
   "language": "python",
   "name": "python3"
  },
  "language_info": {
   "codemirror_mode": {
    "name": "ipython",
    "version": 3
   },
   "file_extension": ".py",
   "mimetype": "text/x-python",
   "name": "python",
   "nbconvert_exporter": "python",
   "pygments_lexer": "ipython3",
   "version": "3.12.4"
  }
 },
 "nbformat": 4,
 "nbformat_minor": 2
}
